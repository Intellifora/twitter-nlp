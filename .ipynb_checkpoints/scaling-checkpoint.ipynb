{
 "cells": [
  {
   "cell_type": "code",
   "execution_count": null,
   "metadata": {
    "ExecuteTime": {
     "end_time": "2016-09-28T12:38:45.801580",
     "start_time": "2016-09-28T12:38:44.272930"
    },
    "collapsed": true
   },
   "outputs": [],
   "source": [
    "# imports\n",
    "from __future__ import division\n",
    "import cPickle\n",
    "import json\n",
    "import numpy as np\n",
    "import requests\n",
    "import time\n",
    "import pandas as pd"
   ]
  },
  {
   "cell_type": "markdown",
   "metadata": {},
   "source": [
    "## Post"
   ]
  },
  {
   "cell_type": "code",
   "execution_count": null,
   "metadata": {
    "ExecuteTime": {
     "end_time": "2016-09-28T12:14:12.961730",
     "start_time": "2016-09-28T12:14:12.928098"
    },
    "code_folding": [],
    "collapsed": true
   },
   "outputs": [],
   "source": [
    ""
   ]
  },
  {
   "cell_type": "code",
   "execution_count": null,
   "metadata": {
    "ExecuteTime": {
     "end_time": "2016-09-28T11:56:25.596585",
     "start_time": "2016-09-28T11:56:25.552099"
    },
    "collapsed": false
   },
   "outputs": [],
   "source": [
    "# load tweets\n",
    "tweets = map(lambda x: x['text'],cPickle.load(open('tweets_list.pkl','r')))\n",
    "def scale_tweets(tweets,des_n_tweets):\n",
    "    scale_factor = int(np.ceil(des_n_tweets/len(tweets)))\n",
    "    return (scale_factor * tweets)[0:des_n_tweets]"
   ]
  },
  {
   "cell_type": "code",
   "execution_count": null,
   "metadata": {
    "ExecuteTime": {
     "end_time": "2016-09-28T11:56:39.739304",
     "start_time": "2016-09-28T11:56:39.703948"
    },
    "collapsed": false
   },
   "outputs": [],
   "source": [
    "url = 'http://0.0.0.0:8000/'\n",
    "r = requests.post(url,json={\"data\":['hello world']})\n",
    "r.content"
   ]
  },
  {
   "cell_type": "code",
   "execution_count": null,
   "metadata": {
    "ExecuteTime": {
     "end_time": "2016-09-29T17:56:30.296806",
     "start_time": "2016-09-29T17:56:07.524717"
    },
    "collapsed": true
   },
   "outputs": [],
   "source": [
    "tweets = ['this is a test tweet'] * 100\n",
    "n = 10\n",
    "for i in range(n):\n",
    "    r = requests.post('http://sentiment-compute-app.cfapps.pez.pivotal.io/polarity_compute', json={\"data\":tweets})\n",
    "    time.sleep(2.)"
   ]
  },
  {
   "cell_type": "code",
   "execution_count": null,
   "metadata": {
    "ExecuteTime": {
     "end_time": "2016-09-29T17:58:45.468228",
     "start_time": "2016-09-29T17:58:45.435104"
    },
    "collapsed": false
   },
   "outputs": [],
   "source": [
    "pd.Series(r.json()['polarity']).mean()"
   ]
  },
  {
   "cell_type": "code",
   "execution_count": null,
   "metadata": {
    "ExecuteTime": {
     "end_time": "2016-09-28T12:40:53.405961",
     "start_time": "2016-09-28T12:40:52.654889"
    },
    "collapsed": false
   },
   "outputs": [],
   "source": [
    "import grequests\n",
    "urls = ['http://sentiment-compute-app.cfapps.pez.pivotal.io/polarity_compute'] * 5\n",
    "rs = (grequests.post(u, json={\"data\":['this is a test tweet']*1000}) for u in urls)\n",
    "r = grequests.map(rs)"
   ]
  },
  {
   "cell_type": "code",
   "execution_count": null,
   "metadata": {
    "ExecuteTime": {
     "end_time": "2016-09-28T12:43:29.499312",
     "start_time": "2016-09-28T12:42:32.199038"
    },
    "code_folding": [
     2.0
    ],
    "collapsed": false
   },
   "outputs": [],
   "source": [
    "n = 1000\n",
    "urls = ['http://sentiment-compute-app.cfapps.pez.pivotal.io/polarity_compute'] * 15\n",
    "for i in range(n):\n",
    "    rs = (grequests.post(u, json={\"data\":['this is a test tweet']*1000}) for u in urls)\n",
    "    r = grequests.map(rs)\n",
    "    print time.time()"
   ]
  },
  {
   "cell_type": "code",
   "execution_count": null,
   "metadata": {
    "ExecuteTime": {
     "end_time": "2016-09-28T17:37:45.109182",
     "start_time": "2016-09-28T17:37:44.513879"
    },
    "collapsed": false
   },
   "outputs": [],
   "source": [
    "r = requests.get('http://sentiment-compute-metrics.cfapps.pez.pivotal.io/getdata')\n",
    "# eval(r.content.replace('\\n','').replace('\\\\','')[0:300])\n",
    "a = r.content.replace('\\n','').replace('\\\\','').replace('\"{','{').replace('}\"','}')\n",
    "df = pd.DataFrame(eval(a))\n",
    "df['datetime'] = pd.to_datetime(df['time'],unit='s')\n",
    "df.shape"
   ]
  },
  {
   "cell_type": "code",
   "execution_count": null,
   "metadata": {
    "ExecuteTime": {
     "end_time": "2016-09-28T17:37:45.726615",
     "start_time": "2016-09-28T17:37:45.697966"
    },
    "collapsed": false,
    "scrolled": false
   },
   "outputs": [],
   "source": [
    "df.datetime.value_counts()"
   ]
  },
  {
   "cell_type": "markdown",
   "metadata": {},
   "source": [
    "## Testing redis"
   ]
  },
  {
   "cell_type": "code",
   "execution_count": null,
   "metadata": {
    "ExecuteTime": {
     "end_time": "2016-09-28T11:36:37.202654",
     "start_time": "2016-09-28T11:36:37.174644"
    },
    "collapsed": true
   },
   "outputs": [],
   "source": [
    "import helper_functions\n",
    "r = helper_functions.connect_redis_db()"
   ]
  },
  {
   "cell_type": "code",
   "execution_count": null,
   "metadata": {
    "collapsed": true
   },
   "outputs": [],
   "source": [
    ""
   ]
  },
  {
   "cell_type": "code",
   "execution_count": null,
   "metadata": {
    "ExecuteTime": {
     "end_time": "2016-09-28T11:49:54.818293",
     "start_time": "2016-09-28T11:49:54.023807"
    },
    "collapsed": false
   },
   "outputs": [],
   "source": [
    "r.flushall()\n",
    "n = 10000\n",
    "for i in range(n):\n",
    "    tweet_packet = {'time': time.time(),'n_tweet':i}\n",
    "    r.lpush('n_tweets',json.dumps(tweet_packet))"
   ]
  },
  {
   "cell_type": "code",
   "execution_count": null,
   "metadata": {
    "ExecuteTime": {
     "end_time": "2016-09-28T11:49:54.859226",
     "start_time": "2016-09-28T11:49:54.819680"
    },
    "collapsed": false
   },
   "outputs": [],
   "source": [
    "time_interval = 1\n",
    "r.ltrim('n_tweets',0,500)\n",
    "tweet_stats = [json.loads(s) for s in r.lrange('n_tweets', 0, -1)]\n",
    "df = pd.DataFrame(tweet_stats, columns=['time', 'n_tweet'])\n",
    "df_recent = df[time.time() - df['time'] < time_interval]\n",
    "rate = df_recent.n_tweet.sum()/float(time_interval)\n",
    "\n",
    "df.shape"
   ]
  },
  {
   "cell_type": "code",
   "execution_count": null,
   "metadata": {
    "ExecuteTime": {
     "end_time": "2016-09-28T11:50:00.884852",
     "start_time": "2016-09-28T11:50:00.834171"
    },
    "collapsed": true
   },
   "outputs": [],
   "source": [
    "df"
   ]
  },
  {
   "cell_type": "markdown",
   "metadata": {},
   "source": [
    "## How long does it take locally?"
   ]
  },
  {
   "cell_type": "code",
   "execution_count": null,
   "metadata": {
    "collapsed": true
   },
   "outputs": [],
   "source": [
    ""
   ]
  },
  {
   "cell_type": "code",
   "execution_count": null,
   "metadata": {
    "ExecuteTime": {
     "end_time": "2016-09-29T09:55:33.074941",
     "start_time": "2016-09-29T09:55:25.898368"
    },
    "collapsed": true
   },
   "outputs": [],
   "source": [
    "import cPickle\n",
    "import os\n",
    "\n",
    "from flask import Flask, request, jsonify\n",
    "import pandas as pd\n",
    "import requests\n",
    "import sklearn\n",
    "\n",
    "resp = requests.get(\"https://raw.githubusercontent.com/crawles/gpdb_sentiment_analysis_twitter_model/master/twitter_sentiment_model.pkl\")\n",
    "resp.raise_for_status()\n",
    "cl = cPickle.loads(resp.content)\n",
    "\n",
    "def regex_preprocess(raw_tweets):\n",
    "    pp_text = pd.Series(raw_tweets)\n",
    "    \n",
    "    user_pat = '(?<=^|(?<=[^a-zA-Z0-9-_\\.]))@([A-Za-z]+[A-Za-z0-9]+)'\n",
    "    http_pat = '(https?:\\/\\/(?:www\\.|(?!www))[^\\s\\.]+\\.[^\\s]{2,}|www\\.[^\\s]+\\.[^\\s]{2,})'\n",
    "    repeat_pat, repeat_repl = \"(.)\\\\1\\\\1+\",'\\\\1\\\\1'\n",
    "\n",
    "    pp_text = pp_text.str.replace(pat = user_pat, repl = 'USERNAME')\n",
    "    pp_text = pp_text.str.replace(pat = http_pat, repl = 'URL')\n",
    "\n",
    "    pp_text =  pp_text.str.replace(pat = repeat_pat, repl = repeat_repl)"
   ]
  },
  {
   "cell_type": "code",
   "execution_count": null,
   "metadata": {
    "ExecuteTime": {
     "end_time": "2016-09-29T09:56:33.941289",
     "start_time": "2016-09-29T09:56:33.910730"
    },
    "collapsed": false
   },
   "outputs": [],
   "source": [
    "sentence = 'pivotal is amazing and the worst'\n",
    "cl.predict_proba([sentence])"
   ]
  },
  {
   "cell_type": "code",
   "execution_count": null,
   "metadata": {
    "ExecuteTime": {
     "end_time": "2016-09-29T10:41:29.122671",
     "start_time": "2016-09-29T10:41:29.093712"
    },
    "collapsed": false
   },
   "outputs": [],
   "source": [
    "a = np.nan or 1\n",
    "a"
   ]
  },
  {
   "cell_type": "markdown",
   "metadata": {},
   "source": [
    "## Test Locust"
   ]
  },
  {
   "cell_type": "code",
   "execution_count": null,
   "metadata": {
    "ExecuteTime": {
     "end_time": "2016-09-28T16:46:04.089985",
     "start_time": "2016-09-28T16:46:04.059639"
    },
    "collapsed": false
   },
   "outputs": [],
   "source": [
    "url = 'http://localhost:8089/swarm'\n",
    "# url = 'http://localhost:5000/swarm'\n",
    "session = requests.session()\n",
    "d = {\"locust_count\":10,\"hatch_rate\":10}\n",
    "r = requests.post(url,data=d)\n",
    "r.content"
   ]
  },
  {
   "cell_type": "markdown",
   "metadata": {},
   "source": [
    "## Test Threading"
   ]
  },
  {
   "cell_type": "code",
   "execution_count": null,
   "metadata": {
    "ExecuteTime": {
     "end_time": "2016-09-30T11:38:08.449360",
     "start_time": "2016-09-30T11:38:08.418526"
    },
    "collapsed": true
   },
   "outputs": [],
   "source": [
    "#\n",
    "import threading\n",
    "\n",
    "def set_interval(func, sec):\n",
    "    def func_wrapper():\n",
    "        set_interval(func, sec)\n",
    "        func()\n",
    "    t = threading.Timer(sec, func_wrapper)\n",
    "    t.start()\n",
    "    return t\n",
    "\n",
    "\n",
    "# set_interval(print1,1)"
   ]
  },
  {
   "cell_type": "code",
   "execution_count": null,
   "metadata": {
    "ExecuteTime": {
     "end_time": "2016-09-30T11:38:41.272106",
     "start_time": "2016-09-30T11:38:41.240281"
    },
    "collapsed": false
   },
   "outputs": [],
   "source": [
    "def yfunc():\n",
    "    yield 1\n",
    "set_interval(yfunc, 1)"
   ]
  },
  {
   "cell_type": "code",
   "execution_count": 1,
   "metadata": {
    "ExecuteTime": {
     "end_time": "2016-09-30T11:56:51.733333",
     "start_time": "2016-09-30T11:56:51.596144"
    },
    "collapsed": true
   },
   "outputs": [],
   "source": [
    "import gevent"
   ]
  },
  {
   "cell_type": "code",
   "execution_count": 2,
   "metadata": {
    "ExecuteTime": {
     "end_time": "2016-09-30T11:57:14.180899",
     "start_time": "2016-09-30T11:57:14.169504"
    },
    "collapsed": true
   },
   "outputs": [],
   "source": [
    "def print_hello():\n",
    "    print hello\n",
    "fg = gevent.Greenlet(print_hello)"
   ]
  },
  {
   "cell_type": "code",
   "execution_count": 6,
   "metadata": {
    "ExecuteTime": {
     "end_time": "2016-09-30T12:02:40.922351",
     "start_time": "2016-09-30T12:02:40.803913"
    },
    "collapsed": false
   },
   "outputs": [
    {
     "data": {
      "text/plain": [
       "'hello from Waiter'"
      ]
     },
     "execution_count": 6,
     "metadata": {},
     "output_type": "execute_result"
    }
   ],
   "source": [
    "result = gevent.hub.Waiter()\n",
    "timer = gevent.get_hub().loop.timer(0.1)\n",
    "timer.start(result.switch, 'hello from Waiter')\n",
    "result.get() # blocks for 0.1 seconds"
   ]
  },
  {
   "cell_type": "code",
   "execution_count": null,
   "metadata": {
    "collapsed": true
   },
   "outputs": [],
   "source": [
    ""
   ]
  },
  {
   "cell_type": "code",
   "execution_count": 15,
   "metadata": {
    "ExecuteTime": {
     "end_time": "2016-09-30T12:36:06.224272",
     "start_time": "2016-09-30T12:36:06.210438"
    },
    "collapsed": false
   },
   "outputs": [
    {
     "name": "stdout",
     "output_type": "stream",
     "text": [
      "0\n",
      "2\n",
      "1\n"
     ]
    }
   ],
   "source": [
    "globvar = 0\n",
    "\n",
    "def set_globvar_to_one():\n",
    "    global globvar    # Needed to modify global copy of globvar\n",
    "    globvar = 1\n",
    "\n",
    "def print_globvar():\n",
    "    globvar = 2\n",
    "    print globvar     # No need for global declaration to read value of globvar\n",
    "\n",
    "print globvar\n",
    "set_globvar_to_one()\n",
    "print_globvar()\n",
    "print globvar # Prints 1"
   ]
  }
 ],
 "metadata": {
  "anaconda-cloud": {},
  "kernelspec": {
   "display_name": "Python 2",
   "language": "python",
   "name": "python2"
  },
  "language_info": {
   "codemirror_mode": {
    "name": "ipython",
    "version": 2.0
   },
   "file_extension": ".py",
   "mimetype": "text/x-python",
   "name": "python",
   "nbconvert_exporter": "python",
   "pygments_lexer": "ipython2",
   "version": "2.7.12"
  }
 },
 "nbformat": 4,
 "nbformat_minor": 0
}